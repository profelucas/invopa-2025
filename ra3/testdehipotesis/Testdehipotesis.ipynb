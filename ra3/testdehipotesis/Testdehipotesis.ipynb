{
 "cells": [
  {
   "cell_type": "code",
   "execution_count": 55,
   "id": "779f5c43",
   "metadata": {},
   "outputs": [],
   "source": [
    "import numpy as np\n",
    "import pandas as pd\n",
    "import matplotlib.pyplot as plt\n",
    "import scipy.stats as stats\n",
    "from statsmodels.graphics.tsaplots import plot_acf\n",
    "from scipy.stats import norm\n",
    "import math"
   ]
  },
  {
   "cell_type": "markdown",
   "id": "440e3521",
   "metadata": {},
   "source": [
    "# Ejemplo de series de tiempo\n"
   ]
  },
  {
   "cell_type": "code",
   "execution_count": 76,
   "id": "fd9f93a2",
   "metadata": {},
   "outputs": [],
   "source": [
    "data = [61562,66509,72386,80306,82884,85965,95183,103394,110136,113993,113531,116844,121903,122511,126553,138071,151079,114177,128003,133474,140488,150402]\n",
    "#importacion de datos\n",
    "##ejemplo del la clase 1\n",
    "time_series=pd.Series(data)\n"
   ]
  },
  {
   "cell_type": "markdown",
   "id": "76ec79ff",
   "metadata": {},
   "source": [
    "Un **intervalo de confianza** es un rango de valores que se calcula a partir de una muestra, y que tiene una alta probabilidad (por ejemplo 95%) de **contener el valor real** del parámetro poblacional que estamos estimando (como la media, proporción, o autocorrelación).\n",
    "\n",
    "\\$ IC_{(1 - \\alpha)} = 0 \\pm Z_{\\alpha/2} \\cdot \\frac{s}{\\sqrt{n}} $\n",
    "\n",
    "Donde:\n",
    "\n",
    "- \\$ \\bar{x}$ = media muestral \n",
    "\n",
    "- s = desviación estándar muestral (En estos ) \n",
    "- n = tamaño de la muestra  \n",
    "- \\$ Z_{\\alpha/2} $ = valor crítico de la distribución normal  \n",
    "  (por ejemplo, 1.96 para 95%)\n",
    "  \n",
    "  \n",
    "\n",
    "Cuando se evalúa si una autocorrelación \\$\\hat{AR}_k$ es significativa, se construye un intervalo como:\n",
    "\n",
    "\\$\n",
    "0\\pm Z_{\\alpha/2} \\cdot \\text{SE}(\\hat{AR}_k)\n",
    "$\n",
    "\n",
    "Para datos independientes (ruido blanco):\n",
    "\n",
    "\\$\n",
    "\\text{SE}(\\hat{AR}_k) \\approx \\frac{1}{\\sqrt{n}}\n",
    "$\n",
    "\n",
    "Por lo tanto, el **rango de no significancia** se define como:\n",
    "\n",
    "\\$\n",
    "\\text{rang} = Z_{\\alpha/2} \\cdot \\frac{1}{\\sqrt{n}}\n",
    "$\n",
    "\n",
    "Si \\$ \\hat{AR}_k $ está **fuera de este rango**, se considera **estadísticamente significativo**.\n",
    "\n",
    "Para ingresar el intervalo de confianza se aplica según su valor contrario al 100% en decimal (tambien llamado nivel de significancia). Por ejemplo (y viendo el codigo) 95%->0,05.\n",
    "\n",
    "Existen dos tipos de testeo. Unilaterales y bilaterales\n",
    "\n",
    "Para estos analisis, nos enfocamos en un testeo bilateral. Donde se busca detectar diferencias tanto por encima o por debajo del dato esperado. Es por eso que se aplica 0.05/2"
   ]
  },
  {
   "cell_type": "code",
   "execution_count": 73,
   "id": "38761ed8",
   "metadata": {},
   "outputs": [
    {
     "name": "stdout",
     "output_type": "stream",
     "text": [
      "1.959963984540054\n",
      "0.41786572553513607\n",
      "[ 1.          0.7813217   0.6266553   0.5096119   0.41623457  0.35906223\n",
      "  0.18859659  0.06170178 -0.03225255 -0.10556844 -0.17526686 -0.23665695\n",
      " -0.27549004 -0.31888546]\n",
      "[[ 0.58213427  1.41786573]\n",
      " [ 0.36345598  1.19918743]\n",
      " [ 0.20878957  1.04452102]\n",
      " [ 0.09174617  0.92747762]\n",
      " [-0.00163115  0.8341003 ]\n",
      " [-0.0588035   0.77692796]\n",
      " [-0.22926913  0.60646232]\n",
      " [-0.35616395  0.4795675 ]\n",
      " [-0.45011828  0.38561317]\n",
      " [-0.52343417  0.31229728]\n",
      " [-0.59313258  0.24259887]\n",
      " [-0.65452268  0.18120877]\n",
      " [-0.69335577  0.14237568]\n",
      " [-0.73675119  0.09898026]]\n"
     ]
    }
   ],
   "source": [
    "from statsmodels.tsa.stattools import acf\n",
    "#rango de confianza a tratar\n",
    "print(stats.norm.ppf(1-0.05/2))\n",
    "rang= stats.norm.ppf(1-0.05/2)* (1/math.sqrt(len(data)))\n",
    "print(rang)\n",
    "\n",
    "#test de hipotesis\n",
    "acf_values,confint= acf(data, alpha=0.05,bartlett_confint=False)\n",
    "print(acf_values)\n",
    "print(confint)\n",
    "\n"
   ]
  },
  {
   "cell_type": "code",
   "execution_count": 74,
   "id": "5d5b8c12",
   "metadata": {},
   "outputs": [
    {
     "data": {
      "image/png": "[encoded data removed]",
      "text/plain": [
       "<Figure size 720x432 with 1 Axes>"
      ]
     },
     "metadata": {
      "needs_background": "light"
     },
     "output_type": "display_data"
    }
   ],
   "source": [
    "#test de hipotesis\n",
    "plt.rc(\"figure\", figsize=(10,6))\n",
    "\n",
    "#funcion de autocorrelacion y ploteo\n",
    "plot_acf(data, lags=7,alpha=0.05,bartlett_confint=False)\n",
    "\n",
    "plt.ylim(-1,1)\n",
    "plt.xlabel('lags', fontsize=10)\n",
    "plt.ylabel('Correlacion', fontsize=10)\n",
    "plt.xticks(fontsize=18)\n",
    "plt.yticks(fontsize=18)\n",
    "plt.title(' Ploteo de Autocorrelacion', fontsize=7)\n",
    "plt.tight_layout()\n",
    "plt.show()"
   ]
  },
  {
   "cell_type": "markdown",
   "id": "cba38e3c",
   "metadata": {},
   "source": [
    "**Tiempos (lags) significativos**:\n",
    "Los valores de autocorrelacion que estan fuera del intervalo de confianza (mostrado en esa franja sombreada) son considerados estadisticamente significativos, indicando una autocorrelacion genuina en ese tiempo.\n",
    "\n",
    "**Tendencia**:\n",
    "una caida lenta en los valores de autocorrelacion a medida que el tiempo (lags) aumente indica una presencia de tendencia en la serie de tiempo.\n",
    "\n",
    "**Ruido blanco**\n",
    "Para una serie de tiempo puramente aleatoria, **todos** los valores de autocorrelacion deberian estar cercana a 0 o dentro del intervalo de confianza, indicando una nula precencia de un patron significativo."
   ]
  },
  {
   "cell_type": "markdown",
   "id": "5bdfdb89",
   "metadata": {},
   "source": []
  }
 ],
 "metadata": {
  "kernelspec": {
   "display_name": "Python 3 (ipykernel)",
   "language": "python",
   "name": "python3"
  },
  "language_info": {
   "codemirror_mode": {
    "name": "ipython",
    "version": 3
   },
   "file_extension": ".py",
   "mimetype": "text/x-python",
   "name": "python",
   "nbconvert_exporter": "python",
   "pygments_lexer": "ipython3",
   "version": "3.8.10"
  }
 },
 "nbformat": 4,
 "nbformat_minor": 5
}
