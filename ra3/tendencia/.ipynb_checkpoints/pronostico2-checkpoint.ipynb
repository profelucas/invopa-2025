{
 "cells": [
  {
   "cell_type": "markdown",
   "id": "e0cee56e",
   "metadata": {},
   "source": [
    "# Predicciones para patrones de tendencia"
   ]
  },
  {
   "cell_type": "code",
   "execution_count": 16,
   "id": "4c56b885",
   "metadata": {},
   "outputs": [],
   "source": [
    "import pandas as pd\n",
    "import numpy as np\n",
    "import matplotlib.pyplot as plt\n",
    "import scipy.stats as stats\n",
    "from statsmodels.graphics.tsaplots import plot_acf\n",
    "from scipy.stats import norm\n",
    "import math"
   ]
  },
  {
   "cell_type": "markdown",
   "id": "da29fd06",
   "metadata": {},
   "source": [
    "En este punto se muestra cómo pronosticar los valores de una serie de tiempo que exhibe una tendencia lineal a largo\n",
    "plazo. El tipo de series de tiempo para las cuales el método de proyección de tendencias es aplicable, muestra un incremento o disminución constante en el tiempo\n",
    "\n",
    "para realizar un buen pronostico, su base radica en el siguiente formula:\n",
    "\n",
    "$$ y_{t+p}=A_{t}+B_{t}*p$$\n",
    "\n",
    "\n",
    "Donde:\n",
    "\n",
    "$A_{t}$ = Estimación del nivel actual (valor base de la serie)\n",
    "\n",
    "$B_{t}$ = Estimación de la pendiente o tendencia\n",
    "\n",
    "$p$ = número de períodos hacia adelante que quieres pronosticar.\n",
    "\n",
    "\n",
    "Cuando hay tendencia, no basta con saber «el valor promedio actual». También necesitas saber cuánto se mueve por período.\n",
    "\n",
    "\n",
    "Para determinar que una muestra de la serie presenta un patron predominantemente tendencial. Tiene el siguiente comportamiento en sus autocorrelaciones"
   ]
  },
  {
   "cell_type": "code",
   "execution_count": 18,
   "id": "4f27e8fd",
   "metadata": {},
   "outputs": [
    {
     "data": {
      "image/png": "[encoded data removed]",
      "text/plain": [
       "<Figure size 720x432 with 1 Axes>"
      ]
     },
     "metadata": {
      "needs_background": "light"
     },
     "output_type": "display_data"
    }
   ],
   "source": [
    "data = [3307,3556,3601,3721,4036,4134,4268,4578,5093,5716,6357,6769,7296,8178,8844,9251,10006,10991,12306,13101,13639,14950,17224,17946,17514,25195,27357,30020,35883,38828,40175,44282,48440,50251,53794,55972,57242]\n",
    "#test de hipotesis\n",
    "plt.rc(\"figure\", figsize=(10,6))\n",
    "\n",
    "#funcion de autocorrelacion y ploteo\n",
    "plot_acf(data, lags=8-1,alpha=0.05,bartlett_confint=False)\n",
    "\n",
    "plt.ylim(-1,1)\n",
    "plt.xlabel('lags', fontsize=10)\n",
    "plt.ylabel('Correlacion', fontsize=10)\n",
    "plt.xticks(fontsize=18)\n",
    "plt.yticks(fontsize=18)\n",
    "plt.title(' Ploteo de Autocorrelacion', fontsize=7)\n",
    "plt.tight_layout()\n",
    "plt.show()"
   ]
  },
  {
   "cell_type": "markdown",
   "id": "f922dad8",
   "metadata": {},
   "source": [
    "**Promedio Móvil Doble (PMD)**\n",
    "\n",
    "La desventaja de el promedio móvil simple, solo logra suavizar fluctuaciones aleatorias pero no maneja bien tendencias. El promedio móvil doble aplica un promedio móvil dos veces:\n",
    "\n",
    "-El primer promedio suaviza la serie.\n",
    "\n",
    "-El segundo suaviza el promedio suavizado.\n",
    "\n",
    "tomando el cuenta la formula de pronostico, las estimaciones se obtienen mediante las siguientes formulas: \n",
    "$$A_{t} = 2 * M_{t}- M´_{t} $$\n",
    "$$B_{t} = \\frac{2}{n-1}(M_{t}-M´_{t})$$\n",
    "Donde: \n",
    "- $M_{t}$ =  Promedio móvil para el periodo t.\n",
    "- $M´_{t}$ = Promedio móvil doble para el periodo \n",
    "- $n$ = Numero de periodos considerados (ventana)\n",
    "\n",
    "\n",
    "Para obtener los promedios se aplica la misma tecnica que un promedio movil:\n",
    "$$M_{t} = \\frac{y_t + y_{t-1} + \\dots + y_{t-n+1}}{n}$$\n",
    "\n",
    "$$M´_{t} = \\frac{M_t + M_{t-1} + \\dots + M_{t-n+1}}{n}$$"
   ]
  },
  {
   "cell_type": "code",
   "execution_count": 21,
   "id": "9fb47f1c",
   "metadata": {},
   "outputs": [],
   "source": [
    "# Promedio móvil simple con ventana \"a\"\n",
    "def pmd(data, a):\n",
    "    \n",
    "    series = pd.Series(data)\n",
    "\n",
    "    pmd1 = series.rolling(window=a).mean()\n",
    "    pmd2 = pmd1.rolling(window=a).mean()\n",
    "\n",
    "    at = 2 * pmd1 - pmd2\n",
    "    bt = (2 / (a - 1)) * (pmd1 - pmd2)\n",
    "\n",
    "    resultado = at + bt\n",
    "    resultado_shifted = resultado.shift(1)\n",
    "    #2*a dado que me desplaze el doble\n",
    "    if len(series) >= 2 * a:\n",
    "        futuro = pd.Series([resultado.iloc[-1]])\n",
    "    else:\n",
    "        futuro = pd.Series([pd.NA])\n",
    "\n",
    "    resultado_final = pd.concat([resultado_shifted, futuro], ignore_index=True)\n",
    "\n",
    "    return resultado_final"
   ]
  },
  {
   "cell_type": "markdown",
   "id": "3792a366",
   "metadata": {},
   "source": [
    "**Atenuacion exponencial doble de Brown**\n",
    "\n",
    "\n",
    "Este método atenúa doblemente los datos, para posteriormente realizar el pronostico. Aplicando:\n",
    "    $$A_{t}= \\alpha*y_{t} + (1-\\alpha)*A_{t-1}$$\n",
    "    $$A'_{t}=\\alpha * A_{t} + (1-\\alpha) * A'_{t-1}$$\n",
    "    \n",
    "Donde:\n",
    "\n",
    "- $A_{t}$ = Valor atenuado exponencialmente de $y_{t}$ en el periodo t.\n",
    "- $A'_{t}$= Valor doblemente atenuado exponencialmente de $y_{t}$ en el periodo t.\n",
    "- $a_{t}= 2A_{t}-A'_{t}$\n",
    "- $b_{t}= \\frac{\\alpha}{1-\\alpha} (A_{t}-A'_{t})$\n",
    "    \n",
    "Su ventaja radica en su simpleza, dado que solo se tiene que manejar un solo parametro $\\alpha$. Pero al mismo tiempo no es flexible frente a cambios muy bruscos.\n",
    "\n"
   ]
  },
  {
   "cell_type": "code",
   "execution_count": 27,
   "id": "495f0e31",
   "metadata": {},
   "outputs": [],
   "source": [
    "#Atenuacion exponencial doble de Brown con un parametro alfa\n",
    "def aed(data, alfa):\n",
    "    series = pd.Series(data)\n",
    "    n = len(series)\n",
    "\n",
    "    S1 = pd.Series(index=series.index, dtype='float64')\n",
    "    S2 = pd.Series(index=series.index, dtype='float64')\n",
    "    \n",
    "    S1.iloc[0] = series.iloc[0]\n",
    "    S2.iloc[0] = series.iloc[0]\n",
    "\n",
    "    for t in range(1, n):\n",
    "        S1.iloc[t] = alfa * series.iloc[t] + (1 - alfa) * S1.iloc[t - 1]\n",
    "        S2.iloc[t] = alfa * S1.iloc[t] + (1 - alfa) * S2.iloc[t - 1]\n",
    "\n",
    "    a_t = 2 * S1 - S2\n",
    "    b_t = (alfa / (1 - alfa)) * (S1 - S2)\n",
    "\n",
    "    resultado = a_t + b_t\n",
    "\n",
    "    futuro = pd.Series([resultado.iloc[-1]])\n",
    "\n",
    "    resultado_shifted = resultado.shift(1)\n",
    "\n",
    "    resultado_final = pd.concat([resultado_shifted, futuro], ignore_index=True)\n",
    "\n",
    "    return resultado_final"
   ]
  },
  {
   "cell_type": "markdown",
   "id": "fefcc45b",
   "metadata": {},
   "source": [
    "**Atenuación Exponencial Doble de Holt**\n",
    "\n",
    "Al igual que el promedio movil doble, la atenuacion exponencial simple maneja la misma desventaja al momento de pronosticar patrones tendenciales. Es por eso se agrega un nuevo parametro $ \\beta $ donde considera la pendiente y busca aplicar un suavizado ligado a la tendencia.\n",
    "\n",
    "El pronostico se aplica mediante: \n",
    "\n",
    "$$ y_{t+p}=L_{t}+T_{t}*p$$\n",
    "\n",
    "Donde: \n",
    "$$L_{t} =  αY_{t}+ (1 – α) (L_{t–1} + T_{t–1})$$\n",
    "\n",
    "$$T_{t} = \\beta (L_{t}-L_{t-1}) + (1- \\beta) * T_{t-1} $$\n",
    "\n",
    "- $ y_{t}$  = Valor de la serie de datos en el periodo t.\n",
    "- $ \\beta \\in [0,1]$: parámetro de suavizamiento\n",
    "  - Si $ \\beta $ es grande → más peso a la pendiente nueva\n",
    "  - Si $ \\beta $ es pequeño → más peso las pendientes historicas\n",
    "  \n",
    "  \n",
    "La aplicacion de un parametro extra ayuda al reajuste y mayor control frente al comportamiento de la serie de tiempo"
   ]
  },
  {
   "cell_type": "code",
   "execution_count": 47,
   "id": "4df39b57",
   "metadata": {},
   "outputs": [],
   "source": [
    "#atenuacion exponencial doble de Holt con dos variables, alfa y beta\n",
    "def aeh(data, alfa, beta):\n",
    "    series = pd.Series(data)\n",
    "    n = len(series)\n",
    "\n",
    "    l = pd.Series(index=series.index, dtype='float64')\n",
    "    T = pd.Series(index=series.index, dtype='float64')\n",
    "    yt = pd.Series(index=series.index, dtype='float64')\n",
    "\n",
    "    l.iloc[0] = series.iloc[0]\n",
    "    T.iloc[0] = 0\n",
    "\n",
    "    for t in range(1, n):\n",
    "        l.iloc[t] = alfa * series.iloc[t] + (1 - alfa) * (l.iloc[t - 1] + T.iloc[t - 1])\n",
    "        T.iloc[t] = beta * (l.iloc[t] - l.iloc[t - 1]) + (1 - beta) * T.iloc[t - 1]\n",
    "        yt.iloc[t] = l.iloc[t - 1] + T.iloc[t - 1]\n",
    "\n",
    "    yt1 = l.iloc[n - 1] + T.iloc[n - 1]\n",
    "    \n",
    "    resultado = pd.concat([yt, pd.Series([yt1])], ignore_index=True)\n",
    "\n",
    "    return resultado"
   ]
  },
  {
   "cell_type": "markdown",
   "id": "ced81275",
   "metadata": {},
   "source": [
    "**Regresion lineal**\n",
    "\n",
    "Es un modelo matemático usado para aproximar la relación de dependencia entre una variable dependiente Y, m variables independientes  $X_{i}$\n",
    "\n",
    "$$\n",
    "{ Y = a + bX + \\varepsilon }\n",
    "$$\n",
    "\n",
    "- $ Y $: variable dependiente (Para estos casos, el factor dependiente es el tiempo).\n",
    "- $ X $: variable independiente.\n",
    "- $ a $: intercepto (valor de Y cuando X = 0).\n",
    "- $ b $: pendiente (cambio en Y por cada unidad de X).\n",
    "-  $ \\varepsilon $: error aleatorio.\n",
    "\n",
    "**Pendiente (b):**\n",
    "\n",
    "$$\n",
    "b = \\frac{\\sum (X_i - \\bar{X})(Y_i - \\bar{Y})}{\\sum (X_i - \\bar{X})^2}\n",
    "$$\n",
    "\n",
    "**Intercepto (a):**\n",
    "$$\n",
    "a = \\bar{Y} - b\\bar{X}\n",
    "$$\n",
    "\n",
    "Donde:\n",
    "\n",
    "- $\\bar{X}\\ e\\ \\bar{Y}$ son los promedios de X e Y\n",
    "\n",
    "Hay que tener considerado que:\n",
    "\n",
    "- Solo captura **relaciones lineales**.\n",
    "- Sensible a **valores atípicos**.\n",
    "- Requiere supuestos: independencia (no existe una correlacion fuerte), homocedasticidad (Todos los términos de la perturbación tienen la misma varianza que es desconocida. La dispersión de cada error $\\varepsilon$ en torno a su valor esperado es siempre la misma.) y normalidad de errores."
   ]
  },
  {
   "cell_type": "code",
   "execution_count": 7,
   "id": "14c5ad5f",
   "metadata": {},
   "outputs": [],
   "source": [
    "#regresion lineal\n",
    "def rl(data):\n",
    "    series = pd.Series(data)\n",
    "    n = len(series)\n",
    "\n",
    "    # Crear vector de tiempo t = 0, 1, 2, ..., n-1\n",
    "    t = pd.Series(range(n))\n",
    "\n",
    "    t_mean = t.mean()\n",
    "    y_mean = series.mean()\n",
    "\n",
    "    num = ((t - t_mean) * (series - y_mean)).sum()\n",
    "    den = ((t - t_mean)**2).sum()\n",
    "    b = num / den\n",
    "\n",
    "    a = y_mean - b * t_mean\n",
    "\n",
    "    pronostico = a + b * t\n",
    "    pronostico_futuro = a + b * n\n",
    "    \n",
    "    resultado = pd.concat([pronostico, pd.Series([pronostico_futuro])], ignore_index=True)\n",
    "\n",
    "    return resultado"
   ]
  },
  {
   "cell_type": "code",
   "execution_count": 22,
   "id": "a0e7fdc4",
   "metadata": {},
   "outputs": [
    {
     "name": "stdout",
     "output_type": "stream",
     "text": [
      "Con 5 periodos\n",
      "0          NaN\n",
      "1          NaN\n",
      "2          NaN\n",
      "3          NaN\n",
      "4          NaN\n",
      "5          NaN\n",
      "6          NaN\n",
      "7          NaN\n",
      "8          NaN\n",
      "9      5062.00\n",
      "10     5567.92\n",
      "11     6261.58\n",
      "12     6986.90\n",
      "13     7716.26\n",
      "14     8526.34\n",
      "15     9271.04\n",
      "16     9858.48\n",
      "17    10573.26\n",
      "18    11458.42\n",
      "19    12497.50\n",
      "20    13533.34\n",
      "21    14545.04\n",
      "22    15732.32\n",
      "23    17411.82\n",
      "24    18704.10\n",
      "25    19373.52\n",
      "26    23184.36\n",
      "27    26972.92\n",
      "28    30562.20\n",
      "29    35984.16\n",
      "30    42080.56\n",
      "31    44804.52\n",
      "32    48229.90\n",
      "33    52065.34\n",
      "34    54088.92\n",
      "35    56792.38\n",
      "36    59862.32\n",
      "37    61751.66\n",
      "dtype: float64\n"
     ]
    }
   ],
   "source": [
    "#Con 5 periodos\n",
    "print(\"Con 5 periodos\")\n",
    "pmd5 = pmd(data,5)\n",
    "print(pmd5)"
   ]
  },
  {
   "cell_type": "code",
   "execution_count": 28,
   "id": "368f48cf",
   "metadata": {},
   "outputs": [
    {
     "name": "stdout",
     "output_type": "stream",
     "text": [
      "Con alfa 0,3\n",
      "0              NaN\n",
      "1      3307.000000\n",
      "2      3456.400000\n",
      "3      3565.570000\n",
      "4      3694.252000\n",
      "5      3948.713500\n",
      "6      4140.055420\n",
      "7      4313.667973\n",
      "8      4580.628006\n",
      "9      5020.201902\n",
      "10     5615.944940\n",
      "11     6301.463984\n",
      "12     6889.566557\n",
      "13     7483.085827\n",
      "14     8286.272546\n",
      "15     9069.689508\n",
      "16     9677.451764\n",
      "17    10389.874611\n",
      "18    11295.413091\n",
      "19    12500.729768\n",
      "20    13550.809260\n",
      "21    14347.665378\n",
      "22    15460.944992\n",
      "23    17324.866954\n",
      "24    18662.310689\n",
      "25    18993.990157\n",
      "26    23631.913982\n",
      "27    27342.374398\n",
      "28    30759.616306\n",
      "29    35885.299374\n",
      "30    40163.677133\n",
      "31    42948.071293\n",
      "32    46527.048015\n",
      "33    50573.492288\n",
      "34    53450.835675\n",
      "35    56698.548724\n",
      "36    59335.318733\n",
      "37    61086.637352\n",
      "dtype: float64\n"
     ]
    }
   ],
   "source": [
    "#Con alfa 0,3\n",
    "print(\"Con alfa 0,3\")\n",
    "aed3 = aed(data,0.3)\n",
    "print(aed3)"
   ]
  },
  {
   "cell_type": "code",
   "execution_count": 48,
   "id": "8b87beee",
   "metadata": {},
   "outputs": [
    {
     "name": "stdout",
     "output_type": "stream",
     "text": [
      "#Con alfa 0,5 y beta 0,3 \n",
      "0              NaN\n",
      "1      3307.000000\n",
      "2      3468.850000\n",
      "3      3592.097500\n",
      "4      3733.056625\n",
      "5      4006.477694\n",
      "6      4211.316574\n",
      "7      4389.238528\n",
      "8      4661.513726\n",
      "9      5119.874266\n",
      "10     5749.973396\n",
      "11     6476.576952\n",
      "12     7089.742187\n",
      "13     7690.763476\n",
      "14     8505.359600\n",
      "15     9296.453721\n",
      "16     9888.682724\n",
      "17    10579.894817\n",
      "18    11479.666641\n",
      "19    12711.002556\n",
      "20    13782.670131\n",
      "21    14565.953398\n",
      "22    15670.702023\n",
      "23    17593.071031\n",
      "24    18968.194881\n",
      "25    19221.627573\n",
      "26    24084.849784\n",
      "27    28088.283421\n",
      "28    31711.257727\n",
      "29    37080.006221\n",
      "30    41499.079534\n",
      "31    44183.504261\n",
      "32    47593.990985\n",
      "33    51505.135700\n",
      "34    54178.087702\n",
      "35    57228.450548\n",
      "36    59654.164388\n",
      "37    61140.196651\n",
      "dtype: float64\n"
     ]
    }
   ],
   "source": [
    "#Con alfa 0,5 y beta 0,3 \n",
    "print(\"#Con alfa 0,5 y beta 0,3 \")\n",
    "aeh3 = aeh(data,0.5,0.3)\n",
    "print(aeh3)"
   ]
  },
  {
   "cell_type": "code",
   "execution_count": 11,
   "id": "d04811c4",
   "metadata": {},
   "outputs": [
    {
     "name": "stdout",
     "output_type": "stream",
     "text": [
      "0     -7355.817923\n",
      "1     -5860.343054\n",
      "2     -4364.868184\n",
      "3     -2869.393314\n",
      "4     -1373.918445\n",
      "5       121.556425\n",
      "6      1617.031294\n",
      "7      3112.506164\n",
      "8      4607.981034\n",
      "9      6103.455903\n",
      "10     7598.930773\n",
      "11     9094.405642\n",
      "12    10589.880512\n",
      "13    12085.355382\n",
      "14    13580.830251\n",
      "15    15076.305121\n",
      "16    16571.779991\n",
      "17    18067.254860\n",
      "18    19562.729730\n",
      "19    21058.204599\n",
      "20    22553.679469\n",
      "21    24049.154339\n",
      "22    25544.629208\n",
      "23    27040.104078\n",
      "24    28535.578947\n",
      "25    30031.053817\n",
      "26    31526.528687\n",
      "27    33022.003556\n",
      "28    34517.478426\n",
      "29    36012.953295\n",
      "30    37508.428165\n",
      "31    39003.903035\n",
      "32    40499.377904\n",
      "33    41994.852774\n",
      "34    43490.327643\n",
      "35    44985.802513\n",
      "36    46481.277383\n",
      "37    47976.752252\n",
      "dtype: float64\n"
     ]
    }
   ],
   "source": [
    "rl1= rl(data);\n",
    "\n",
    "print(rl1)"
   ]
  },
  {
   "cell_type": "code",
   "execution_count": 12,
   "id": "58f69600",
   "metadata": {},
   "outputs": [
    {
     "data": {
      "image/png": "[encoded data removed]",
      "text/plain": [
       "<Figure size 432x288 with 1 Axes>"
      ]
     },
     "metadata": {
      "needs_background": "light"
     },
     "output_type": "display_data"
    }
   ],
   "source": [
    "# Plot original data, PMS y AES\n",
    "plt.plot(data, label='valores originales')\n",
    "plt.plot(pmd5, label='pmd k=5')\n",
    "plt.plot(aed3, label='aed a = 0,3')\n",
    "plt.plot(aeh3, label='aeh a = 0,5 b = 0,3')\n",
    "plt.plot(rl1, label='regresion lineal')\n",
    "plt.xlabel('tiempo')\n",
    "plt.ylabel('datos')\n",
    "plt.title('Prediccion')\n",
    "plt.legend()\n",
    "plt.show()"
   ]
  },
  {
   "cell_type": "code",
   "execution_count": 24,
   "id": "795665f5",
   "metadata": {},
   "outputs": [],
   "source": [
    "def calcular_errores(data, pron):\n",
    "    y_true = pd.Series(data)\n",
    "    y_pred = pd.Series(pron)\n",
    "    \n",
    "    mask = (~y_true.isna()) & (~y_pred.isna())\n",
    "\n",
    "    y_true_clean = y_true[mask]\n",
    "    y_pred_clean = y_pred[mask]\n",
    "\n",
    "    #DAM\n",
    "    dam= np.mean(np.abs((y_true_clean - y_pred_clean)))\n",
    "    \n",
    "    #EMC\n",
    "    emc= np.mean(pow((y_true_clean - y_pred_clean),2))\n",
    "    \n",
    "    #PEMA\n",
    "    pema = np.mean(np.abs((y_true_clean - y_pred_clean)/y_true_clean))*100\n",
    "    \n",
    "    #PME\n",
    "    pme = np.mean((y_true_clean - y_pred_clean)/y_true_clean)*100\n",
    "    \n",
    "    return dam,emc,pema,pme\n",
    "\n",
    "\n",
    "def mostrar_resultados(y_true,y_pred):\n",
    "    dam,emc,pema,pme = calcular_errores(y_true,y_pred)\n",
    "    print(f\"DAM : {dam}\")\n",
    "    print(f\"EMC : {emc}\")\n",
    "    print(f\"PEMA: {pema}\")\n",
    "    print(f\"PME: {pme}\")\n",
    "    \n"
   ]
  },
  {
   "cell_type": "code",
   "execution_count": 29,
   "id": "fac4c781",
   "metadata": {},
   "outputs": [
    {
     "name": "stdout",
     "output_type": "stream",
     "text": [
      "PREDICCION 1 : PMD K= 5\n",
      "DAM : 1364.1407142857147\n",
      "EMC : 4248162.2985285735\n",
      "PEMA: 6.105223327744955\n",
      "PME: 4.452580351072431\n",
      "PREDICCION 2 : AED ALFA= 0.3\n",
      "DAM : 1108.404892139416\n",
      "EMC : 3190629.544727722\n",
      "PEMA: 6.354254019727788\n",
      "PME: 5.679069937278237\n"
     ]
    }
   ],
   "source": [
    "print(\"PREDICCION 1 : PMD K= 5\")\n",
    "mostrar_resultados(data,pmd5)\n",
    "\n",
    "print(\"PREDICCION 2 : AED ALFA= 0.3\")\n",
    "mostrar_resultados(data,aed3)"
   ]
  },
  {
   "cell_type": "code",
   "execution_count": 49,
   "id": "fe2533eb",
   "metadata": {},
   "outputs": [
    {
     "name": "stdout",
     "output_type": "stream",
     "text": [
      "PREDICCION 3 : aeh a= 0.5 y b 0.3\n",
      "DAM : 958.2195255285047\n",
      "EMC : 2490216.2124916567\n",
      "PEMA: 5.187050945763378\n",
      "PME: 3.9197154599533666\n",
      "PREDICCION 4 : rl\n",
      "DAM : 5893.614317019723\n",
      "EMC : 45050543.679283135\n",
      "PEMA: 61.96563183399717\n",
      "PME: 15.889695230678672\n"
     ]
    }
   ],
   "source": [
    "print(\"PREDICCION 3 : aeh a= 0.5 y b 0.3\")\n",
    "mostrar_resultados(data,aeh3)\n",
    "\n",
    "print(\"PREDICCION 4 : rl\")\n",
    "mostrar_resultados(data,rl1)"
   ]
  }
 ],
 "metadata": {
  "kernelspec": {
   "display_name": "Python 3 (ipykernel)",
   "language": "python",
   "name": "python3"
  },
  "language_info": {
   "codemirror_mode": {
    "name": "ipython",
    "version": 3
   },
   "file_extension": ".py",
   "mimetype": "text/x-python",
   "name": "python",
   "nbconvert_exporter": "python",
   "pygments_lexer": "ipython3",
   "version": "3.8.10"
  }
 },
 "nbformat": 4,
 "nbformat_minor": 5
}
