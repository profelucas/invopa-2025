{
 "cells": [
  {
   "cell_type": "code",
   "execution_count": 22,
   "id": "410bcdf7",
   "metadata": {},
   "outputs": [],
   "source": [
    "import pandas as pd\n",
    "import numpy as np\n",
    "import matplotlib.pyplot as plt\n",
    "import scipy.stats as stats\n",
    "from statsmodels.graphics.tsaplots import plot_acf\n",
    "from scipy.stats import norm\n",
    "import math"
   ]
  },
  {
   "cell_type": "markdown",
   "id": "00c9a0bf",
   "metadata": {},
   "source": [
    "# Funciones necesarias"
   ]
  },
  {
   "cell_type": "code",
   "execution_count": 26,
   "id": "78580e59",
   "metadata": {},
   "outputs": [],
   "source": [
    "#test de hipotesis\n",
    "def mostrar_ac(data,alfa):\n",
    "    plt.rc(\"figure\", figsize=(10,6))\n",
    "\n",
    "    #funcion de autocorrelacion y ploteo\n",
    "    plot_acf(data, lags=7,alpha=alfa,bartlett_confint=False)\n",
    "\n",
    "    plt.ylim(-1,1)\n",
    "    plt.xlabel('lags', fontsize=10)\n",
    "    plt.ylabel('Correlacion', fontsize=10)\n",
    "    plt.xticks(fontsize=18)\n",
    "    plt.yticks(fontsize=18)\n",
    "    plt.title(' Ploteo de Autocorrelacion', fontsize=7)\n",
    "    plt.tight_layout()\n",
    "    plt.show()\n",
    "\n",
    "    \n",
    "#pronosticos\n",
    "#Estacionarios/horizontales\n",
    "#promedio movil simple\n",
    "def pms(data, a):\n",
    "    #a= tamaño de la ventana\n",
    "    series = pd.Series(data)\n",
    "    sma = series.rolling(window=a).mean().shift(1)\n",
    "    # se desliza una posicion dado que estos metodos tambien se aplica para suavizar los valores.\n",
    "    if len(series) >= a:\n",
    "        futuro = pd.Series([series.iloc[-a:].mean()])\n",
    "    else:\n",
    "        futuro = pd.Series([np.nan])\n",
    "    \n",
    "    resultado = pd.concat([sma, futuro], ignore_index=True)\n",
    "    \n",
    "    return resultado\n",
    "\n",
    "#atenuacion exponencial simple\n",
    "def aes(data,a):\n",
    "    series =pd.Series(data) \n",
    "    aes = series.ewm(alpha=a, adjust=False).mean().shift(1)\n",
    "    futuro = pd.Series([series.ewm(alpha=a, adjust=False).mean().iloc[-1]])\n",
    "    resultado = pd.concat([aes, futuro], ignore_index=True)\n",
    "\n",
    "    return resultado\n",
    "\n",
    "#tendencia\n",
    "#promedio movil doble\n",
    "def pmd(data, a):\n",
    "    #a= tamaño de la ventana\n",
    "    series = pd.Series(data)\n",
    "\n",
    "    pmd1 = series.rolling(window=a).mean()\n",
    "    pmd2 = pmd1.rolling(window=a).mean()\n",
    "\n",
    "    at = 2 * pmd1 - pmd2\n",
    "    bt = (2 / (a - 1)) * (pmd1 - pmd2)\n",
    "\n",
    "    resultado = at + bt\n",
    "    resultado_shifted = resultado.shift(1)\n",
    "    #2*a dado que me desplaze el doble\n",
    "    if len(series) >= 2 * a:\n",
    "        futuro = pd.Series([resultado.iloc[-1]])\n",
    "    else:\n",
    "        futuro = pd.Series([pd.NA])\n",
    "\n",
    "    resultado_final = pd.concat([resultado_shifted, futuro], ignore_index=True)\n",
    "\n",
    "    return resultado_final\n",
    "#atenuacion exponencial doble de Brown\n",
    "def aed(data, alfa):\n",
    "    #alfa= parametro de suavizado a las observaciones\n",
    "    \n",
    "    series = pd.Series(data)\n",
    "    n = len(series)\n",
    "\n",
    "    S1 = pd.Series(index=series.index, dtype='float64')\n",
    "    S2 = pd.Series(index=series.index, dtype='float64')\n",
    "    \n",
    "    S1.iloc[0] = series.iloc[0]\n",
    "    S2.iloc[0] = series.iloc[0]\n",
    "\n",
    "    for t in range(1, n):\n",
    "        S1.iloc[t] = alfa * series.iloc[t] + (1 - alfa) * S1.iloc[t - 1]\n",
    "        S2.iloc[t] = alfa * S1.iloc[t] + (1 - alfa) * S2.iloc[t - 1]\n",
    "\n",
    "    a_t = 2 * S1 - S2\n",
    "    b_t = (alfa / (1 - alfa)) * (S1 - S2)\n",
    "\n",
    "    resultado = a_t + b_t\n",
    "\n",
    "    futuro = pd.Series([resultado.iloc[-1]])\n",
    "\n",
    "    resultado_shifted = resultado.shift(1)\n",
    "\n",
    "    resultado_final = pd.concat([resultado_shifted, futuro], ignore_index=True)\n",
    "\n",
    "    return resultado_final\n",
    "\n",
    "#Atenuacion exponencial doble de Holt\n",
    "def aeh(data, alfa, beta):\n",
    "    #alfa= parametro de suavizado a las observaciones\n",
    "    #beta= parametro de suavizado a la tendencia (pendiente)\n",
    "    series = pd.Series(data)\n",
    "    n = len(series)\n",
    "\n",
    "    l = pd.Series(index=series.index, dtype='float64')\n",
    "    T = pd.Series(index=series.index, dtype='float64')\n",
    "    yt = pd.Series(index=series.index, dtype='float64')\n",
    "\n",
    "    l.iloc[0] = series.iloc[0]\n",
    "    T.iloc[0] = 0\n",
    "\n",
    "    for t in range(1, n):\n",
    "        l.iloc[t] = alfa * series.iloc[t] + (1 - alfa) * (l.iloc[t - 1] + T.iloc[t - 1])\n",
    "        T.iloc[t] = beta * (l.iloc[t] - l.iloc[t - 1]) + (1 - beta) * T.iloc[t - 1]\n",
    "        yt.iloc[t] = l.iloc[t - 1] + T.iloc[t - 1]\n",
    "\n",
    "    yt1 = l.iloc[n - 1] + T.iloc[n - 1]\n",
    "    \n",
    "    resultado = pd.concat([yt, pd.Series([yt1])], ignore_index=True)\n",
    "\n",
    "    return resultado\n",
    "\n",
    "#Regresion lineal\n",
    "def rl(data):\n",
    "    series = pd.Series(data)\n",
    "    n = len(series)\n",
    "    \n",
    "    t = pd.Series(range(n))\n",
    "\n",
    "    t_mean = t.mean()\n",
    "    y_mean = series.mean()\n",
    "\n",
    "    num = ((t - t_mean) * (series - y_mean)).sum()\n",
    "    den = ((t - t_mean)**2).sum()\n",
    "    b = num / den\n",
    "\n",
    "    a = y_mean - b * t_mean\n",
    "\n",
    "    pronostico = a + b * t\n",
    "    pronostico_futuro = a + b * n\n",
    "    \n",
    "    resultado = pd.concat([pronostico, pd.Series([pronostico_futuro])], ignore_index=True)\n",
    "\n",
    "    return resultado\n",
    "\n",
    "#medicion\n",
    "def calcular_errores(data,pron):\n",
    "    \n",
    "    pron = pron.iloc[:-1]\n",
    "    y_true, y_pred = np.array(data), np.array(pron)\n",
    "    mask = ~np.isnan(y_true) & ~np.isnan(y_pred)\n",
    "    y_true_clean = y_true[mask]\n",
    "    y_pred_clean = y_pred[mask]\n",
    "    \n",
    "    #DAM\n",
    "    dam= np.mean(np.abs((y_true_clean - y_pred_clean)))\n",
    "    \n",
    "    #EMC\n",
    "    emc= np.mean(pow((y_true_clean - y_pred_clean),2))\n",
    "    \n",
    "    #PEMA\n",
    "    pema = np.mean(np.abs((y_true_clean - y_pred_clean)/y_true_clean))*100\n",
    "    \n",
    "    #PME\n",
    "    pme = np.mean((y_true_clean - y_pred_clean)/y_true_clean)*100\n",
    "    \n",
    "    return dam,emc,pema,pme\n",
    "\n",
    "\n",
    "def mostrar_resultados(y_true,y_pred):\n",
    "    dam,emc,pema,pme = calcular_errores(y_true,y_pred)\n",
    "    print(f\"DAM : {dam}\")\n",
    "    print(f\"EMC : {emc}\")\n",
    "    print(f\"PEMA: {pema}\")\n",
    "    print(f\"PME: {pme}\")\n",
    "    "
   ]
  },
  {
   "cell_type": "code",
   "execution_count": 42,
   "id": "1e520c7f",
   "metadata": {},
   "outputs": [],
   "source": [
    "def mejoralfa(Data2):\n",
    "    resultados = []\n",
    "    for x in np.arange(0,1,0.1):\n",
    "        pred = aed(Data2,x)\n",
    "        dam,emc,pema,pme = calcular_errores(Data2,pred)\n",
    "        resultados.append([dam,x])\n",
    "    \n",
    "    resultados=np.array(resultados)\n",
    "    i_min = np.argmin(resultados[:,0])\n",
    "    mejor_dam = resultados[i_min,0]\n",
    "    mejor_alfa = resultados[i_min,1]\n",
    "    \n",
    "    print(f\"El alfa mas acorde en aed con datos ingresados es {mejor_alfa} con un error de  {mejor_dam}\")"
   ]
  },
  {
   "cell_type": "code",
   "execution_count": 23,
   "id": "5ac8852b",
   "metadata": {},
   "outputs": [],
   "source": [
    "Data2 = [61562,66509,72386,80306,82884,85965,95183,103394,110136,113993,113531,116844,121903,122511,126553,138071,151079,114177,128003,133474,140488,150402]"
   ]
  },
  {
   "cell_type": "code",
   "execution_count": 24,
   "id": "c4226b58",
   "metadata": {},
   "outputs": [
    {
     "data": {
      "image/png": "[encoded data removed]",
      "text/plain": [
       "<Figure size 720x432 with 1 Axes>"
      ]
     },
     "metadata": {
      "needs_background": "light"
     },
     "output_type": "display_data"
    }
   ],
   "source": [
    "# 95%\n",
    "\n",
    "mostrar_ac(Data2,0.05)\n"
   ]
  },
  {
   "cell_type": "markdown",
   "id": "40597a3b",
   "metadata": {},
   "source": [
    "# Conclusiones Data2\n",
    "\n",
    "- hipotesis nula (La serie de tiempo puede contener un patron predominantemente aleatorio)\n",
    "- hipotesis alternativa (La serie de tiempo contiene un patron predominantemente no aleatorio)\n",
    "\n",
    "- Existen autocorrelaciones fuera del intervalo de confianza. Se prueba que existen pruebas suficientes para rechazar la hipotesis nula. \n",
    "\n",
    "- Patron predominante: Tendencia.\n"
   ]
  },
  {
   "cell_type": "code",
   "execution_count": 28,
   "id": "43ee1d90",
   "metadata": {},
   "outputs": [
    {
     "name": "stdout",
     "output_type": "stream",
     "text": [
      "Experimento 1: Promedio movil doble con ventana de 3\n",
      "0               NaN\n",
      "1               NaN\n",
      "2               NaN\n",
      "3               NaN\n",
      "4               NaN\n",
      "5      89968.444444\n",
      "6      92725.666667\n",
      "7      97640.222222\n",
      "8     107268.888889\n",
      "9     118204.777778\n",
      "10    122905.666667\n",
      "11    121238.666667\n",
      "12    120023.333333\n",
      "13    122432.222222\n",
      "14    126168.222222\n",
      "15    129966.333333\n",
      "16    138388.333333\n",
      "17    154857.444444\n",
      "18    135290.333333\n",
      "19    123861.444444\n",
      "20    115156.222222\n",
      "21    141769.888889\n",
      "22    157256.666667\n",
      "dtype: float64\n",
      "Experimento 2: Promedio movil doble con ventana de 6\n",
      "0               NaN\n",
      "1               NaN\n",
      "2               NaN\n",
      "3               NaN\n",
      "4               NaN\n",
      "5               NaN\n",
      "6               NaN\n",
      "7               NaN\n",
      "8               NaN\n",
      "9               NaN\n",
      "10              NaN\n",
      "11    123480.155556\n",
      "12    127919.072222\n",
      "13    130962.761111\n",
      "14    131656.227778\n",
      "15    132099.311111\n",
      "16    135980.477778\n",
      "17    144981.272222\n",
      "18    139200.633333\n",
      "19    137728.683333\n",
      "20    138519.033333\n",
      "21    140594.705556\n",
      "22    142485.605556\n",
      "dtype: float64\n"
     ]
    }
   ],
   "source": [
    "#promedio movil doble con ventana de 3\n",
    "exp1=pmd(Data2,3)\n",
    "print(\"Experimento 1: Promedio movil doble con ventana de 3\")\n",
    "print(exp1)\n",
    "\n",
    "#promedio movil doble con ventana de 6\n",
    "print(\"Experimento 2: Promedio movil doble con ventana de 6\")\n",
    "exp2=pmd(Data2,6)\n",
    "print(exp2)"
   ]
  },
  {
   "cell_type": "code",
   "execution_count": 29,
   "id": "aff7cf2e",
   "metadata": {},
   "outputs": [
    {
     "name": "stdout",
     "output_type": "stream",
     "text": [
      "Atenuacion exponencial doble con alfa 0.4\n",
      "0               NaN\n",
      "1      61562.000000\n",
      "2      65519.600000\n",
      "3      71804.240000\n",
      "4      80495.792000\n",
      "5      85656.784000\n",
      "6      89535.895680\n",
      "7      97735.432576\n",
      "8     106847.676646\n",
      "9     114969.096248\n",
      "10    120205.111905\n",
      "11    120726.539637\n",
      "12    122413.367278\n",
      "13    126176.726465\n",
      "14    127334.139538\n",
      "15    130212.705918\n",
      "16    139877.836868\n",
      "17    153474.590111\n",
      "18    128464.526861\n",
      "19    128235.699793\n",
      "20    132492.890082\n",
      "21    139793.656173\n",
      "22    150464.226978\n",
      "dtype: float64\n",
      "0               NaN\n",
      "1      61562.000000\n",
      "2      70466.600000\n",
      "3      77928.590000\n",
      "4      87769.712000\n",
      "5      86462.916500\n",
      "6      89096.726180\n",
      "7     103178.766071\n",
      "8     111622.815952\n",
      "9     117177.515530\n",
      "10    118472.034946\n",
      "11    114025.361834\n",
      "12    119543.862017\n",
      "13    126518.358785\n",
      "14    123944.063137\n",
      "15    130033.139040\n",
      "16    148007.517177\n",
      "17    163553.082045\n",
      "18     87180.931237\n",
      "19    133170.825427\n",
      "20    139292.585773\n",
      "21    147265.948900\n",
      "22    159700.743922\n",
      "dtype: float64\n"
     ]
    }
   ],
   "source": [
    "#Atenuacion exponencial doble de Brown con alfa 0.4\n",
    "exp3= aed(Data2,0.4)\n",
    "print(\"Atenuacion exponencial doble con alfa 0.4\")\n",
    "print(exp3)\n",
    "exp4 = aed(Data2,0.9)\n",
    "print(exp4)"
   ]
  },
  {
   "cell_type": "code",
   "execution_count": 31,
   "id": "7b1f0b4b",
   "metadata": {},
   "outputs": [],
   "source": [
    "exp5 = aed(Data2, 0.01)"
   ]
  },
  {
   "cell_type": "code",
   "execution_count": 33,
   "id": "5a9c06b4",
   "metadata": {},
   "outputs": [
    {
     "name": "stdout",
     "output_type": "stream",
     "text": [
      "0               NaN\n",
      "1      61562.000000\n",
      "2      64530.200000\n",
      "3      70233.080000\n",
      "4      78837.392000\n",
      "5      85840.500800\n",
      "6      91299.665920\n",
      "7      99039.031808\n",
      "8     107838.044979\n",
      "9     116273.843886\n",
      "10    122421.954453\n",
      "11    124147.829903\n",
      "12    125047.789192\n",
      "13    126982.406927\n",
      "14    127492.096183\n",
      "15    129226.890500\n",
      "16    136643.788990\n",
      "17    149184.170286\n",
      "18    134946.165006\n",
      "19    130545.128837\n",
      "20    130678.681369\n",
      "21    135526.276614\n",
      "22    145375.578438\n",
      "dtype: float64\n",
      "0               NaN\n",
      "1      61562.000000\n",
      "2      64134.440000\n",
      "3      69018.891200\n",
      "4      76472.014976\n",
      "5      82744.527444\n",
      "6      88126.891632\n",
      "7      95890.243149\n",
      "8     104733.104881\n",
      "9     113383.969335\n",
      "10    120190.371687\n",
      "11    123290.288496\n",
      "12    125701.883961\n",
      "13    128716.575165\n",
      "14    130023.920868\n",
      "15    132008.617785\n",
      "16    138534.121802\n",
      "17    149158.009595\n",
      "18    136573.821120\n",
      "19    133525.209500\n",
      "20    133878.297389\n",
      "21    137688.914435\n",
      "22    145466.454930\n",
      "dtype: float64\n"
     ]
    }
   ],
   "source": [
    "exp6 = aeh(Data2, 0.4, 0.5)\n",
    "print(exp6)\n",
    "exp7 = aeh(Data2, 0.4, 0.3)\n",
    "print(exp7)"
   ]
  },
  {
   "cell_type": "code",
   "execution_count": 34,
   "id": "83689c50",
   "metadata": {},
   "outputs": [
    {
     "name": "stdout",
     "output_type": "stream",
     "text": [
      "0      70196.260870\n",
      "1      74027.586674\n",
      "2      77858.912479\n",
      "3      81690.238283\n",
      "4      85521.564088\n",
      "5      89352.889893\n",
      "6      93184.215697\n",
      "7      97015.541502\n",
      "8     100846.867307\n",
      "9     104678.193111\n",
      "10    108509.518916\n",
      "11    112340.844720\n",
      "12    116172.170525\n",
      "13    120003.496330\n",
      "14    123834.822134\n",
      "15    127666.147939\n",
      "16    131497.473744\n",
      "17    135328.799548\n",
      "18    139160.125353\n",
      "19    142991.451158\n",
      "20    146822.776962\n",
      "21    150654.102767\n",
      "22    154485.428571\n",
      "dtype: float64\n"
     ]
    }
   ],
   "source": [
    "exp8 = rl(Data2)\n",
    "print(exp8)"
   ]
  },
  {
   "cell_type": "code",
   "execution_count": 32,
   "id": "c972c26b",
   "metadata": {},
   "outputs": [
    {
     "data": {
      "image/png": "[encoded data removed]",
      "text/plain": [
       "<Figure size 720x432 with 1 Axes>"
      ]
     },
     "metadata": {
      "needs_background": "light"
     },
     "output_type": "display_data"
    }
   ],
   "source": [
    "plt.plot(Data2, label='valores originales')\n",
    "plt.plot(exp3, label='aed 0.4')\n",
    "plt.plot(exp4, label='aed 0.9')\n",
    "plt.plot(exp5, label='aed 0.01')\n",
    "plt.xlabel('tiempo')\n",
    "plt.ylabel('datos')\n",
    "plt.title('Prediccion')\n",
    "plt.legend()\n",
    "plt.show()"
   ]
  },
  {
   "cell_type": "code",
   "execution_count": 37,
   "id": "50d50a4e",
   "metadata": {},
   "outputs": [
    {
     "name": "stdout",
     "output_type": "stream",
     "text": [
      "\n",
      "DAM : 8690.91503267973\n",
      "EMC : 172668955.8678283\n",
      "PEMA: 7.0350141538218285\n",
      "PME: -0.2229519800476274\n",
      "\n",
      "DAM : 9573.661616161608\n",
      "EMC : 148525971.85293475\n",
      "PEMA: 7.518364322858323\n",
      "PME: -3.4745245787466024\n",
      "\n",
      "DAM : 6512.185157523036\n",
      "EMC : 106425275.13672593\n",
      "PEMA: 5.8943309551459055\n",
      "PME: 1.240564408876186\n",
      "\n",
      "DAM : 7060.834236468417\n",
      "EMC : 207523485.4971472\n",
      "PEMA: 6.212225615794719\n",
      "PME: 0.3564342705637586\n",
      "\n",
      "DAM : 44205.989092612625\n",
      "EMC : 2323572456.94104\n",
      "PEMA: 36.99777077912045\n",
      "PME: 36.99777077912045\n",
      "\n",
      "DAM : 7497.979715201713\n",
      "EMC : 109434327.76062766\n",
      "PEMA: 6.686010168528271\n",
      "PME: 1.05369075228713\n",
      "\n",
      "DAM : 7752.573636391589\n",
      "EMC : 107360082.31476629\n",
      "PEMA: 7.143621700001379\n",
      "PME: 1.4599378139581685\n",
      "\n",
      "DAM : 7040.791643139467\n",
      "EMC : 76612758.67173141\n",
      "PEMA: 6.515047335019274\n",
      "PME: -0.8291948403534368\n"
     ]
    }
   ],
   "source": [
    "#medicion de los experimentos\n",
    "resultados = [exp1,exp2,exp3,exp4,exp5,exp6,exp7,exp8]\n",
    "for x in resultados:\n",
    "    print(\"\")\n",
    "    mostrar_resultados(Data2,x)"
   ]
  },
  {
   "cell_type": "markdown",
   "id": "8aaeaae2",
   "metadata": {},
   "source": [
    "# Conclusiones Data2\n",
    "- DAM -> EXP3\n",
    "- EMC ->EXP8\n",
    "- PEMA ->EXP3\n",
    "- PME -> EXP1\n",
    "\n",
    "Se concluye que el mejor modelo fue la atenuacion exponencial doble de Brown con alfa 0.4\n"
   ]
  },
  {
   "cell_type": "code",
   "execution_count": 43,
   "id": "5b61f904",
   "metadata": {},
   "outputs": [
    {
     "name": "stdout",
     "output_type": "stream",
     "text": [
      "El alfa mas acorde en aed con datos ingresados es 0.4 con un error de  6512.185157523036\n"
     ]
    }
   ],
   "source": [
    "mejoralfa(Data2)"
   ]
  },
  {
   "attachments": {
    "image.png": {
     "image/png": "[encoded data removed]"
    }
   },
   "cell_type": "markdown",
   "id": "5bc84b59",
   "metadata": {},
   "source": [
    "# Ejemplo 2\n",
    "\n",
    "![image.png](attachment:image.png)"
   ]
  },
  {
   "cell_type": "code",
   "execution_count": null,
   "id": "40162c47",
   "metadata": {},
   "outputs": [],
   "source": [
    "data3 = [62,72,77,76,83,90,95,93,90,94,97,105,102,110,113,122,123,131,127,135,143,140,142]"
   ]
  },
  {
   "attachments": {
    "image.png": {
     "image/png": "[encoded data removed]"
    }
   },
   "cell_type": "markdown",
   "id": "4515ae4b",
   "metadata": {},
   "source": [
    "![image.png](attachment:image.png)"
   ]
  },
  {
   "cell_type": "code",
   "execution_count": null,
   "id": "ea21c95c",
   "metadata": {},
   "outputs": [],
   "source": [
    "data4 = [3200,3108,2930,2801,2316,2444,2719,3133,3459,2819,2773,2321]"
   ]
  }
 ],
 "metadata": {
  "kernelspec": {
   "display_name": "Python 3 (ipykernel)",
   "language": "python",
   "name": "python3"
  },
  "language_info": {
   "codemirror_mode": {
    "name": "ipython",
    "version": 3
   },
   "file_extension": ".py",
   "mimetype": "text/x-python",
   "name": "python",
   "nbconvert_exporter": "python",
   "pygments_lexer": "ipython3",
   "version": "3.8.10"
  }
 },
 "nbformat": 4,
 "nbformat_minor": 5
}
