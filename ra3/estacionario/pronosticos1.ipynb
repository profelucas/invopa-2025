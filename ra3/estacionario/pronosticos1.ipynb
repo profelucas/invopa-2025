{
 "cells": [
  {
   "cell_type": "markdown",
   "id": "53a5abff",
   "metadata": {},
   "source": [
    "# Predicciones a patrones estacionarios / horizontales\n",
    "\n",
    "Para estas series, estos patrones **no tiene tendencia ni estacionalidad**; oscila alrededor de un valor promedio constante.\n",
    "Es el tipo ideal para aplicar modelos simples como el **promedio móvil simple** o la **atenuación exponencial simple**.\n",
    "\n",
    "**Promedio Móvil Simple (PMA)**\n",
    "\n",
    "Es el promedio aritmético de los últimos \\(k\\) valores observados.\n",
    "\n",
    "$$\n",
    "\\hat{y}_{t+1} = \\frac{y_t + y_{t-1} + \\dots + y_{t-k+1}}{k}\n",
    "$$\n",
    "Donde: \n",
    "- $ \\hat{y}_{t+1}$ : predicción para el siguiente período\n",
    "- $ y_t $: valor en el tiempo actual\n",
    "- $ k $: número de períodos considerados (ventana)"
   ]
  },
  {
   "cell_type": "code",
   "execution_count": 1,
   "id": "61126412",
   "metadata": {},
   "outputs": [],
   "source": [
    "import pandas as pd\n",
    "import numpy as np\n",
    "import matplotlib.pyplot as plt\n",
    "import scipy.stats as stats\n",
    "from statsmodels.graphics.tsaplots import plot_acf\n",
    "from scipy.stats import norm\n",
    "import math"
   ]
  },
  {
   "cell_type": "code",
   "execution_count": 2,
   "id": "61d3d969",
   "metadata": {},
   "outputs": [],
   "source": [
    "# Ejemplo de una serie\n",
    "data = [9.29,9.99,10.16,10.25,10.61,11.07,11.52,11.09,10.8,10.5,10.86,9.97]\n"
   ]
  },
  {
   "cell_type": "code",
   "execution_count": 3,
   "id": "bfc55120",
   "metadata": {},
   "outputs": [
    {
     "data": {
      "image/png": "[encoded data removed]",
      "text/plain": [
       "<Figure size 432x288 with 1 Axes>"
      ]
     },
     "metadata": {
      "needs_background": "light"
     },
     "output_type": "display_data"
    }
   ],
   "source": [
    "#primero debemos averiguar el patron predominante en esta serie aplicando a del 90%.\n",
    "\n",
    "#test de hipotesis\n",
    "plt.rc(\"figure\", figsize=(10,6))\n",
    "\n",
    "#funcion de autocorrelacion y ploteo\n",
    "plot_acf(data, lags=7,alpha=0.1,bartlett_confint=False)\n",
    "\n",
    "plt.ylim(-1,1)\n",
    "plt.xlabel('lags', fontsize=10)\n",
    "plt.ylabel('Correlacion', fontsize=10)\n",
    "plt.xticks(fontsize=18)\n",
    "plt.yticks(fontsize=18)\n",
    "plt.title(' Ploteo de Autocorrelacion', fontsize=7)\n",
    "plt.tight_layout()\n",
    "plt.show()"
   ]
  },
  {
   "cell_type": "code",
   "execution_count": 4,
   "id": "5666c2b6",
   "metadata": {},
   "outputs": [],
   "source": [
    "# Promedio móvil simple con ventana \"a\"\n",
    "def pms(data, a):\n",
    "    \n",
    "    series = pd.Series(data)\n",
    "    sma = series.rolling(window=a).mean().shift(1)\n",
    "    # se desliza una posicion dado que estos metodos tambien se aplica para suavizar los valores.\n",
    "    if len(series) >= a:\n",
    "        futuro = pd.Series([series.iloc[-a:].mean()])\n",
    "    else:\n",
    "        futuro = pd.Series([np.nan])\n",
    "    \n",
    "    resultado = pd.concat([sma, futuro], ignore_index=True)\n",
    "    \n",
    "    return resultado"
   ]
  },
  {
   "cell_type": "code",
   "execution_count": 5,
   "id": "5c1a5b9f",
   "metadata": {},
   "outputs": [
    {
     "name": "stdout",
     "output_type": "stream",
     "text": [
      "Con 3 periodos\n",
      "0           NaN\n",
      "1           NaN\n",
      "2           NaN\n",
      "3      9.813333\n",
      "4     10.133333\n",
      "5     10.340000\n",
      "6     10.643333\n",
      "7     11.066667\n",
      "8     11.226667\n",
      "9     11.136667\n",
      "10    10.796667\n",
      "11    10.720000\n",
      "12    10.443333\n",
      "dtype: float64\n",
      "Con 5 periodos\n",
      "0        NaN\n",
      "1        NaN\n",
      "2        NaN\n",
      "3        NaN\n",
      "4        NaN\n",
      "5     10.060\n",
      "6     10.416\n",
      "7     10.722\n",
      "8     10.908\n",
      "9     11.018\n",
      "10    10.996\n",
      "11    10.954\n",
      "12    10.644\n",
      "dtype: float64\n"
     ]
    }
   ],
   "source": [
    "#Con 3 periodos\n",
    "print(\"Con 3 periodos\")\n",
    "pms3 = pms(data,3)\n",
    "print(pms3)\n",
    "\n",
    "print(\"Con 5 periodos\")\n",
    "pms5=pms(data,5)\n",
    "print(pms5)"
   ]
  },
  {
   "cell_type": "markdown",
   "id": "47c04d79",
   "metadata": {},
   "source": [
    "**Atenuación Exponencial Simple**\n",
    "\n",
    "Es un promedio ponderado donde se da más peso a los valores más recientes.\n",
    "$$\n",
    "\\hat{y}_{t+1} = \\alpha y_t + (1 - \\alpha) \\hat{y}_t\n",
    "$$\n",
    "\n",
    "- $ \\alpha \\in [0,1]$: parámetro de suavizamiento\n",
    "  - Si $ \\alpha $ es grande → más peso a los datos recientes\n",
    "  - Si $ \\alpha $ es pequeño → más peso al historial\n",
    "  - Usualmente para tener una prediccion cercano a lo real, el parametro varia entre 0.2 y 0.5\n",
    "- $ \\hat{y}_{t} $: pronóstico en el período actual\n",
    "- $ y_t $: valor observado actual\n",
    "\n"
   ]
  },
  {
   "cell_type": "code",
   "execution_count": 6,
   "id": "38ee95be",
   "metadata": {},
   "outputs": [],
   "source": [
    "def aes(data,a):\n",
    "    series =pd.Series(data) \n",
    "    aes = series.ewm(alpha=a, adjust=False).mean().shift(1)\n",
    "    futuro = pd.Series([series.ewm(alpha=a, adjust=False).mean().iloc[-1]])\n",
    "    resultado = pd.concat([aes, futuro], ignore_index=True)\n",
    "\n",
    "    return resultado"
   ]
  },
  {
   "cell_type": "code",
   "execution_count": 7,
   "id": "f91e8d32",
   "metadata": {},
   "outputs": [
    {
     "name": "stdout",
     "output_type": "stream",
     "text": [
      "0           NaN\n",
      "1      9.290000\n",
      "2      9.500000\n",
      "3      9.698000\n",
      "4      9.863600\n",
      "5     10.087520\n",
      "6     10.382264\n",
      "7     10.723585\n",
      "8     10.833509\n",
      "9     10.823457\n",
      "10    10.726420\n",
      "11    10.766494\n",
      "12    10.527546\n",
      "dtype: float64\n"
     ]
    }
   ],
   "source": [
    "# Con una atenuacion del 0.3\n",
    "aes3=aes(data,0.3)\n",
    "print(aes3)\n"
   ]
  },
  {
   "cell_type": "code",
   "execution_count": 8,
   "id": "04724e68",
   "metadata": {},
   "outputs": [
    {
     "data": {
      "image/png": "[encoded data removed]",
      "text/plain": [
       "<Figure size 432x288 with 1 Axes>"
      ]
     },
     "metadata": {
      "needs_background": "light"
     },
     "output_type": "display_data"
    }
   ],
   "source": [
    "# Plot original data, PMS y AES\n",
    "plt.plot(data, label='valores originales')\n",
    "plt.plot(pms3, label='pms k=3')\n",
    "plt.plot(pms5, label='pms k = 5')\n",
    "plt.plot(aes3, label='aes a = 0,3')\n",
    "plt.xlabel('tiempo')\n",
    "plt.ylabel('datos')\n",
    "plt.title('Prediccion')\n",
    "plt.legend()\n",
    "plt.show()"
   ]
  },
  {
   "cell_type": "markdown",
   "id": "2e7df136",
   "metadata": {},
   "source": [
    "# Como podemos determinar la prediccion más acertada?\n",
    "\n",
    "\n",
    "Para determinar una prediccion mas cercano al comportamiendo de los datos aplicamos distintos estimadores para detectar el más acertado.\n",
    "\n",
    "Todo parte con la medición más simple: Que tan alejado esta el pronostico con el dato real.\n",
    "\n",
    "$$ error = y_{t}-\\hat{y}_{t} $$\n",
    "\n",
    "**Desviacion absoluta media (DAM)**: \n",
    "Medida para calcular cuanto varian de su media los valores del conjunto de datos en terminos absolutos. \n",
    "\n",
    "$$ DAM = \\frac{\\sum ^{n}_{t=1} |error|}{n}$$\n",
    "\n",
    "\n",
    "**Error medio cuadratico (EMC)** :\n",
    "Esta estimacion determina el error entre dos conjuntos de datos, en este caso entre el valor predicho con el valor medido. Se aplica el cuadrado para resaltar las diferencias más distantes entre los valores.\n",
    "\n",
    "$$ EMC = \\frac{\\sum ^{n}_{t=1} (error)^2}{n}$$\n",
    "\n",
    "**Porcentaje de error medio absoluto (PEMA)**:\n",
    "Esta medida nos entrega en terminos porcentuales del error absoluto entre el valor predicho con el valor real. Esta estimacion es util para comparar modelos entre distintas escalas. \n",
    "\n",
    "$$ PEMA = \\frac{100}{n} \\sum_{t=1}^{n} \\left| \\frac{error}{y_t} \\right| $$\n",
    "\n",
    "\n",
    "**Porcentaje medio de error (PME)**:\n",
    "Mide el **promedio simple del error**. Indica si el modelo tiende a **sobreestimar o subestimar**. Con esta medida podemos determinar si existe un sesgo.\n",
    "\n",
    "$$ PME = \\frac{100}{n} \\sum_{t=1}^{n} \\left( \\frac{error}{y_t} \\right)  $$\n",
    "\n",
    "- Un valor positivo → el modelo subestima.\n",
    "- Un valor negativo → el modelo sobreestima.\n",
    "\n",
    "Es importante aclarar que tanto **PEMA y PME** son estimadores porcentuales\n",
    "\n",
    "Para determinar el pronostico más preciso se tienen que comparar y ver quien obtuvo los resultados más cercano al 0 positivo. (sobretodo el PME). (Si, dije 0 positivo)\n",
    "\n",
    "Estos estimadores igualmente se ocupan en IA. Existen librerias que estan estos estimadores como el sklearn"
   ]
  },
  {
   "cell_type": "code",
   "execution_count": 9,
   "id": "d428f9d9",
   "metadata": {},
   "outputs": [],
   "source": [
    "def calcular_errores(data,pron):\n",
    "    #eliminamos el pronostico para comparar valores\n",
    "    pron = pron.iloc[:-1]\n",
    "    #preparacion de datos\n",
    "    y_true, y_pred = np.array(data), np.array(pron)\n",
    "    mask = ~np.isnan(y_true) & ~np.isnan(y_pred)\n",
    "    y_true_clean = y_true[mask]\n",
    "    y_pred_clean = y_pred[mask]\n",
    "    \n",
    "    #DAM\n",
    "    dam= np.mean(np.abs((y_true_clean - y_pred_clean)))\n",
    "    \n",
    "    #EMC\n",
    "    emc= np.mean(pow((y_true_clean - y_pred_clean),2))\n",
    "    \n",
    "    #PEMA\n",
    "    pema = np.mean(np.abs((y_true_clean - y_pred_clean)/y_true_clean))*100\n",
    "    \n",
    "    #PME\n",
    "    pme = np.mean((y_true_clean - y_pred_clean)/y_true_clean)*100\n",
    "    \n",
    "    return dam,emc,pema,pme\n",
    "\n",
    "\n",
    "def mostrar_resultados(y_true,y_pred):\n",
    "    dam,emc,pema,pme = calcular_errores(y_true,y_pred)\n",
    "    print(f\"DAM : {dam}\")\n",
    "    print(f\"EMC : {emc}\")\n",
    "    print(f\"PEMA: {pema}\")\n",
    "    print(f\"PME: {pme}\")\n",
    "    \n"
   ]
  },
  {
   "cell_type": "code",
   "execution_count": 10,
   "id": "2354a079",
   "metadata": {},
   "outputs": [
    {
     "name": "stdout",
     "output_type": "stream",
     "text": [
      "PREDICCION 1 : PMS K= 3\n",
      "DAM : 0.4911111111111113\n",
      "EMC : 0.3193086419753093\n",
      "PEMA: 4.587487698406649\n",
      "PME: 0.6904483538395347\n",
      "PREDICCION 2 : PMS K= 5\n",
      "DAM : 0.6040000000000002\n",
      "EMC : 0.520154285714286\n",
      "PEMA: 5.582948600322109\n",
      "PME: 0.710021690151977\n",
      "PREDICCION 3 : AES a= 0,3\n",
      "DAM : 0.5847337487345453\n",
      "EMC : 0.449034562805284\n",
      "PEMA: 5.508036196861232\n",
      "PME: 3.4389972407563683\n"
     ]
    }
   ],
   "source": [
    "print(\"PREDICCION 1 : PMS K= 3\")\n",
    "mostrar_resultados(data,pms3)\n",
    "\n",
    "print(\"PREDICCION 2 : PMS K= 5\")\n",
    "mostrar_resultados(data,pms5)\n",
    "\n",
    "print(\"PREDICCION 3 : AES a= 0,3\")\n",
    "mostrar_resultados(data,aes3)"
   ]
  },
  {
   "cell_type": "markdown",
   "id": "5399e30b",
   "metadata": {},
   "source": [
    "Con todo esto planteado: Cual seria la prediccion más acertada? Intenta jugar con los valores para encontrar la mejor prediccion. Si aplicamos valores muy extremos (como un conjunto igual al tamaño y un parametro igual a 0 o a 1) Te da mejores resultados? Es real ese pronostico?."
   ]
  }
 ],
 "metadata": {
  "kernelspec": {
   "display_name": "Python 3 (ipykernel)",
   "language": "python",
   "name": "python3"
  },
  "language_info": {
   "codemirror_mode": {
    "name": "ipython",
    "version": 3
   },
   "file_extension": ".py",
   "mimetype": "text/x-python",
   "name": "python",
   "nbconvert_exporter": "python",
   "pygments_lexer": "ipython3",
   "version": "3.8.10"
  }
 },
 "nbformat": 4,
 "nbformat_minor": 5
}
